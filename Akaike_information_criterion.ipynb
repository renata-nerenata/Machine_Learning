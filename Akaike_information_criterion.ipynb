{
 "cells": [
  {
   "cell_type": "markdown",
   "metadata": {},
   "source": [
    "<br>"
   ]
  },
  {
   "cell_type": "markdown",
   "metadata": {},
   "source": [
    "## Model and feature selection"
   ]
  },
  {
   "cell_type": "markdown",
   "metadata": {},
   "source": [
    "Information criteria"
   ]
  },
  {
   "cell_type": "markdown",
   "metadata": {},
   "source": [
    "Regression model is\n",
    "$$y = \\sum_{i=1}^k \\beta_i x_i + \\varepsilon,$$\n",
    "and $\\varepsilon$ is dictributed normally: $\\varepsilon \\sim \\mathcal{N}(0, \\sigma^2)$, $\\sigma^2$ is known.\n",
    "\n",
    "Prove that the model with highest Akaike information criterion is the model with smallest Mallow's $C_p$."
   ]
  },
  {
   "cell_type": "markdown",
   "metadata": {},
   "source": [
    "**Solution**\n",
    "\n",
    "By definition: \n",
    "$$AIC(S) ≡ LS − dim(S)$$\n",
    "\n",
    "If we compare AICs for two models, with mean squared errors and spesialize to linear-Gaussian model:\n",
    "\n",
    "$$\\Delta AIC = -\\frac{n}{2} \\log MSE_1 - \\frac{n}{2} (1+\\log 2\\pi)+ \\frac{n}{2} \\log MSE_2+ \\frac{n}{2} (1+\\log 2\\pi) - (p_1-p_2)$$\n",
    "\n",
    "where $p_i$ predictors \n",
    "\n",
    "If we rewrite with using trick $MSE_2 = MSE_1 + \\Delta MSE$ we will have:\n",
    "\n",
    "$$\\Delta AIC =  -\\frac{n}{2} \\log MSE_1 + \\frac{n}{2} \\log MSE_1(1 + \\frac{\\Delta MSE}{MSE_1}) - (p_1-p_2) = -\\frac{n}{2} \\log (1 + \\frac{\\Delta MSE}{MSE_1}) - (p_1-p_2) $$\n",
    "\n",
    "If $MSE_1$ is correct model we can use that $MSE_1 = \\sigma^2 \\Rightarrow MSE<< \\sigma^2 $\n",
    "\n",
    "Finally \n",
    "\n",
    "$$\\Delta AIC = -\\frac{n}{2} ({\\Delta MSE}{\\sigma^2}) - (p_1-p_2) = -\\Delta C_p \\frac{n}{2\\sigma^2}$$\n",
    "\n",
    "Which means that the model with highest Akaike information criterion is the model with smallest Mallow's $C_p$.\n",
    "\n",
    "Reference: https://www.stat.cmu.edu/~cshalizi/mreg/15/lectures/21/lecture-21.pdf"
   ]
  }
 ],
 "metadata": {
  "kernelspec": {
   "display_name": "Python 3",
   "language": "python",
   "name": "python3"
  },
  "language_info": {
   "codemirror_mode": {
    "name": "ipython",
    "version": 3
   },
   "file_extension": ".py",
   "mimetype": "text/x-python",
   "name": "python",
   "nbconvert_exporter": "python",
   "pygments_lexer": "ipython3",
   "version": "3.7.4"
  }
 },
 "nbformat": 4,
 "nbformat_minor": 2
}
